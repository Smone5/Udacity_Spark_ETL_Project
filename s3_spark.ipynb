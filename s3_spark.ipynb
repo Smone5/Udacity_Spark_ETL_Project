{
 "cells": [
  {
   "cell_type": "code",
   "execution_count": 1,
   "metadata": {
    "editable": true
   },
   "outputs": [],
   "source": [
    "import configparser\n",
    "from datetime import datetime\n",
    "import os\n",
    "from pyspark.sql import SparkSession\n",
    "from pyspark.sql.functions import udf, col\n",
    "from pyspark.sql.functions import year, month, dayofmonth, hour, weekofyear, date_format"
   ]
  },
  {
   "cell_type": "code",
   "execution_count": 2,
   "metadata": {
    "editable": true
   },
   "outputs": [],
   "source": [
    "config = configparser.ConfigParser()\n",
    "config.read('dl.cfg')\n",
    "\n",
    "os.environ['AWS_ACCESS_KEY_ID']=config['default']['AWS_ACCESS_KEY_ID']\n",
    "os.environ['AWS_SECRET_ACCESS_KEY']=config['default']['AWS_SECRET_ACCESS_KEY']"
   ]
  },
  {
   "cell_type": "code",
   "execution_count": 3,
   "metadata": {
    "editable": true
   },
   "outputs": [],
   "source": [
    "spark = SparkSession \\\n",
    "        .builder \\\n",
    "        .config(\"spark.jars.packages\", \"org.apache.hadoop:hadoop-aws:2.7.0\") \\\n",
    "        .getOrCreate()"
   ]
  },
  {
   "cell_type": "code",
   "execution_count": 4,
   "metadata": {
    "editable": true
   },
   "outputs": [
    {
     "data": {
      "text/plain": [
       "'s3a://udacity-dend/song_data/*/*/*/*'"
      ]
     },
     "execution_count": 4,
     "metadata": {},
     "output_type": "execute_result"
    }
   ],
   "source": [
    "input_data = \"s3a://udacity-dend/\"\n",
    "song_data = input_data+'song_data/*/*/*/*'\n",
    "song_data"
   ]
  },
  {
   "cell_type": "code",
   "execution_count": 5,
   "metadata": {
    "editable": true
   },
   "outputs": [],
   "source": [
    "from pyspark.sql.types import StructType as R, StructField as Fld, DoubleType as Dbl, StringType as Str, IntegerType as Int, DateType as Date\n",
    "song_schema = R([Fld(\"artist\", Str()),\n",
    "                     Fld(\"artist_id\", Str()),\n",
    "                     Fld(\"artist_latitude\", Dbl()),\n",
    "                     Fld(\"artist_location\", Str()),\n",
    "                     Fld(\"artist_longitude\", Dbl()),\n",
    "                     Fld(\"artist_name\", Str()),\n",
    "                     Fld(\"duration\", Dbl()),\n",
    "                     Fld(\"num_songs\", Int()),\n",
    "                     Fld(\"song_id\", Str()),\n",
    "                     Fld(\"title\", Str()),\n",
    "                     Fld(\"year\", Int()),  \n",
    "                     ])"
   ]
  },
  {
   "cell_type": "code",
   "execution_count": 6,
   "metadata": {
    "editable": true
   },
   "outputs": [],
   "source": [
    "df = spark.read.json(song_data, song_schema)"
   ]
  },
  {
   "cell_type": "code",
   "execution_count": 7,
   "metadata": {
    "editable": true
   },
   "outputs": [
    {
     "name": "stdout",
     "output_type": "stream",
     "text": [
      "root\n",
      " |-- artist: string (nullable = true)\n",
      " |-- artist_id: string (nullable = true)\n",
      " |-- artist_latitude: double (nullable = true)\n",
      " |-- artist_location: string (nullable = true)\n",
      " |-- artist_longitude: double (nullable = true)\n",
      " |-- artist_name: string (nullable = true)\n",
      " |-- duration: double (nullable = true)\n",
      " |-- num_songs: integer (nullable = true)\n",
      " |-- song_id: string (nullable = true)\n",
      " |-- title: string (nullable = true)\n",
      " |-- year: integer (nullable = true)\n",
      "\n"
     ]
    }
   ],
   "source": [
    "df.printSchema()"
   ]
  },
  {
   "cell_type": "code",
   "execution_count": 8,
   "metadata": {
    "editable": true
   },
   "outputs": [
    {
     "data": {
      "text/html": [
       "<div>\n",
       "<style scoped>\n",
       "    .dataframe tbody tr th:only-of-type {\n",
       "        vertical-align: middle;\n",
       "    }\n",
       "\n",
       "    .dataframe tbody tr th {\n",
       "        vertical-align: top;\n",
       "    }\n",
       "\n",
       "    .dataframe thead th {\n",
       "        text-align: right;\n",
       "    }\n",
       "</style>\n",
       "<table border=\"1\" class=\"dataframe\">\n",
       "  <thead>\n",
       "    <tr style=\"text-align: right;\">\n",
       "      <th></th>\n",
       "      <th>song_id</th>\n",
       "      <th>title</th>\n",
       "      <th>artist_id</th>\n",
       "      <th>year</th>\n",
       "      <th>duration</th>\n",
       "    </tr>\n",
       "  </thead>\n",
       "  <tbody>\n",
       "    <tr>\n",
       "      <th>0</th>\n",
       "      <td>SOUJLXS12A3F1ECF59</td>\n",
       "      <td>Catholic Knees (Album Version)</td>\n",
       "      <td>ARG9CID1187B9AB010</td>\n",
       "      <td>2009</td>\n",
       "      <td>168.25424</td>\n",
       "    </tr>\n",
       "    <tr>\n",
       "      <th>1</th>\n",
       "      <td>SOJWWEV12A8C136B97</td>\n",
       "      <td>Last Rose Of Summer/Walking In The Air</td>\n",
       "      <td>AR4FBUO1187B9B6072</td>\n",
       "      <td>2005</td>\n",
       "      <td>260.04853</td>\n",
       "    </tr>\n",
       "    <tr>\n",
       "      <th>2</th>\n",
       "      <td>SOAYZDX12A8C13B9C1</td>\n",
       "      <td>Did You Ever Go Steady</td>\n",
       "      <td>ARNUFGE1187B9B7881</td>\n",
       "      <td>1963</td>\n",
       "      <td>138.76200</td>\n",
       "    </tr>\n",
       "    <tr>\n",
       "      <th>3</th>\n",
       "      <td>SOBGZZO12A6701CD25</td>\n",
       "      <td>Keep The Circle Around</td>\n",
       "      <td>AR9AM2N1187B9AD2F1</td>\n",
       "      <td>1999</td>\n",
       "      <td>230.05995</td>\n",
       "    </tr>\n",
       "    <tr>\n",
       "      <th>4</th>\n",
       "      <td>SOMCMZX12A67AE0221</td>\n",
       "      <td>The Old Sod</td>\n",
       "      <td>ARBW7IC1187B9908CE</td>\n",
       "      <td>1990</td>\n",
       "      <td>202.63138</td>\n",
       "    </tr>\n",
       "  </tbody>\n",
       "</table>\n",
       "</div>"
      ],
      "text/plain": [
       "              song_id                                   title  \\\n",
       "0  SOUJLXS12A3F1ECF59          Catholic Knees (Album Version)   \n",
       "1  SOJWWEV12A8C136B97  Last Rose Of Summer/Walking In The Air   \n",
       "2  SOAYZDX12A8C13B9C1                  Did You Ever Go Steady   \n",
       "3  SOBGZZO12A6701CD25                  Keep The Circle Around   \n",
       "4  SOMCMZX12A67AE0221                             The Old Sod   \n",
       "\n",
       "            artist_id  year   duration  \n",
       "0  ARG9CID1187B9AB010  2009  168.25424  \n",
       "1  AR4FBUO1187B9B6072  2005  260.04853  \n",
       "2  ARNUFGE1187B9B7881  1963  138.76200  \n",
       "3  AR9AM2N1187B9AD2F1  1999  230.05995  \n",
       "4  ARBW7IC1187B9908CE  1990  202.63138  "
      ]
     },
     "execution_count": 8,
     "metadata": {},
     "output_type": "execute_result"
    }
   ],
   "source": [
    "# extract columns to create songs table\n",
    "cols = ['song_id','title', 'artist_id', 'year','duration']\n",
    "songs_table = df.select(cols)\n",
    "#print(songs_table.count())\n",
    "songs_table = songs_table.drop_duplicates()\n",
    "#print(songs_table.count())\n",
    "songs_table.limit(5).toPandas()"
   ]
  },
  {
   "cell_type": "code",
   "execution_count": null,
   "metadata": {
    "editable": true
   },
   "outputs": [],
   "source": [
    "songs_table.printSchema()"
   ]
  },
  {
   "cell_type": "code",
   "execution_count": null,
   "metadata": {
    "editable": true
   },
   "outputs": [],
   "source": [
    "# write songs table to parquet files partitioned by year and artist\n",
    "songs_table = songs_table.repartition('year','artist_id')\n",
    "songs_table.write.parquet(\"s3a:://sparkify-datawharehouse23/songs_table/songs_table.parquet\")"
   ]
  },
  {
   "cell_type": "code",
   "execution_count": null,
   "metadata": {
    "editable": true
   },
   "outputs": [],
   "source": []
  },
  {
   "cell_type": "code",
   "execution_count": null,
   "metadata": {
    "editable": true
   },
   "outputs": [],
   "source": []
  },
  {
   "cell_type": "code",
   "execution_count": null,
   "metadata": {
    "editable": true
   },
   "outputs": [],
   "source": []
  },
  {
   "cell_type": "code",
   "execution_count": null,
   "metadata": {
    "editable": true
   },
   "outputs": [],
   "source": [
    "log_data = \"s3a://udacity-dend/log_data/*\""
   ]
  },
  {
   "cell_type": "code",
   "execution_count": null,
   "metadata": {
    "editable": true
   },
   "outputs": [],
   "source": [
    "# read song data file\n",
    "df = spark.read.json(log_data)"
   ]
  },
  {
   "cell_type": "code",
   "execution_count": null,
   "metadata": {
    "editable": true
   },
   "outputs": [],
   "source": []
  }
 ],
 "metadata": {
  "kernelspec": {
   "display_name": "Python 3",
   "language": "python",
   "name": "python3"
  },
  "language_info": {
   "codemirror_mode": {
    "name": "ipython",
    "version": 3
   },
   "file_extension": ".py",
   "mimetype": "text/x-python",
   "name": "python",
   "nbconvert_exporter": "python",
   "pygments_lexer": "ipython3",
   "version": "3.6.3"
  }
 },
 "nbformat": 4,
 "nbformat_minor": 4
}
